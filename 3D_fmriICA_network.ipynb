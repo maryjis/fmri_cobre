{
 "cells": [
  {
   "cell_type": "code",
   "execution_count": 1,
   "id": "bcf49af4-7622-4c67-afdd-f0146e682a8e",
   "metadata": {},
   "outputs": [],
   "source": [
    "# Copyright 2020 MONAI Consortium\n",
    "# Licensed under the Apache License, Version 2.0 (the \"License\");\n",
    "# you may not use this file except in compliance with the License.\n",
    "# You may obtain a copy of the License at\n",
    "#     http://www.apache.org/licenses/LICENSE-2.0\n",
    "# Unless required by applicable law or agreed to in writing, software\n",
    "# distributed under the License is distributed on an \"AS IS\" BASIS,\n",
    "# WITHOUT WARRANTIES OR CONDITIONS OF ANY KIND, either express or implied.\n",
    "# See the License for the specific language governing permissions and\n",
    "# limitations under the License.\n",
    "import nibabel as nib\n",
    "import logging\n",
    "import os\n",
    "import sys\n",
    "import shutil\n",
    "import tempfile\n",
    "from pathlib import Path\n",
    "import matplotlib.pyplot as plt\n",
    "import torch\n",
    "from torch.utils.tensorboard import SummaryWriter\n",
    "import numpy as np\n",
    "import pandas as pd\n",
    "import monai\n",
    "from monai.apps import download_and_extract\n",
    "from monai.config import print_config\n",
    "from monai.data import DataLoader, ImageDataset\n",
    "from monai.transforms import (\n",
    "    EnsureChannelFirst,\n",
    "    Compose,\n",
    "    RandRotate90,\n",
    "    Resize,\n",
    "    ScaleIntensity,\n",
    "    CropForeground,\n",
    "    NormalizeIntensity\n",
    ")\n",
    "from nilearn import image\n",
    "import nilearn\n",
    "from monai.data import NibabelReader\n",
    "from monai.networks.blocks import ResidualUnit,Convolution\n",
    "from torch import nn"
   ]
  },
  {
   "cell_type": "code",
   "execution_count": 2,
   "id": "263d57b9-a5bc-443d-a1fe-78c5904b1709",
   "metadata": {},
   "outputs": [],
   "source": [
    "pin_memory = torch.cuda.is_available()\n",
    "device = torch.device(\"cuda\" if torch.cuda.is_available() else \"cpu\")"
   ]
  },
  {
   "cell_type": "code",
   "execution_count": 3,
   "id": "d400a6b4-88e8-4fd0-90de-5774ef7e3fa4",
   "metadata": {},
   "outputs": [
    {
     "data": {
      "text/plain": [
       "device(type='cpu')"
      ]
     },
     "execution_count": 3,
     "metadata": {},
     "output_type": "execute_result"
    }
   ],
   "source": [
    "device"
   ]
  },
  {
   "cell_type": "code",
   "execution_count": 4,
   "id": "815e535d-16cf-4601-8ace-7ef33efd13b2",
   "metadata": {},
   "outputs": [],
   "source": [
    "data_path ='/workspace/raid/data/zubrikhina/datasets/COBRE_ICA_cleaned/'"
   ]
  },
  {
   "cell_type": "code",
   "execution_count": 5,
   "id": "08591950-1c81-43e3-bded-52c03fa804ba",
   "metadata": {},
   "outputs": [],
   "source": [
    "label_path =\"meta_data.tsv\""
   ]
  },
  {
   "cell_type": "code",
   "execution_count": 6,
   "id": "0ab59d4e-f106-4be2-a6e8-22fe17b839bd",
   "metadata": {},
   "outputs": [],
   "source": [
    "labels_data =pd.read_csv(label_path, delimiter=\"\\t\")\n",
    "labels_data=labels_data.loc[labels_data['Dx'].isin(['No_Known_Disorder', 'Schizophrenia_Strict'])]\n",
    "labels_data=labels_data[['Subjectid','Dx']].drop_duplicates()\n",
    "labels_data['Dx']=labels_data['Dx'].map({'No_Known_Disorder': 0, 'Schizophrenia_Strict' :1})"
   ]
  },
  {
   "cell_type": "code",
   "execution_count": 7,
   "id": "d7e67d66-899e-419a-831b-186a4a25a605",
   "metadata": {},
   "outputs": [],
   "source": [
    "data_fmriprep_path =Path(data_path)"
   ]
  },
  {
   "cell_type": "code",
   "execution_count": 8,
   "id": "b8deda96-d1ea-48e7-aa8c-2c6817021c5b",
   "metadata": {},
   "outputs": [
    {
     "data": {
      "text/plain": [
       "PosixPath('/workspace/raid/data/zubrikhina/datasets/COBRE_ICA_cleaned')"
      ]
     },
     "execution_count": 8,
     "metadata": {},
     "output_type": "execute_result"
    }
   ],
   "source": [
    "data_fmriprep_path"
   ]
  },
  {
   "cell_type": "code",
   "execution_count": 9,
   "id": "23b74723-eff5-4f08-8e5e-defe33e4d732",
   "metadata": {
    "tags": []
   },
   "outputs": [],
   "source": [
    "images =[]\n",
    "labels =[]\n",
    "for raw in labels_data.iterrows():\n",
    "        subj_id=raw[1]['Subjectid']\n",
    "        label=raw[1]['Dx']\n",
    "        brain_path =Path(f'{data_path}/sub-{subj_id}/fmri.nii')\n",
    "        if brain_path.exists():\n",
    "            images.append(brain_path)\n",
    "            labels.append(label)"
   ]
  },
  {
   "cell_type": "code",
   "execution_count": 10,
   "id": "19724bc8-a5bc-4e8a-9426-17fbceffc44d",
   "metadata": {},
   "outputs": [
    {
     "data": {
      "text/plain": [
       "152"
      ]
     },
     "execution_count": 10,
     "metadata": {},
     "output_type": "execute_result"
    }
   ],
   "source": [
    "len(images)"
   ]
  },
  {
   "cell_type": "code",
   "execution_count": 11,
   "id": "a1d00dad-c0a2-437d-a833-29e86f161ffe",
   "metadata": {},
   "outputs": [],
   "source": [
    "labels = torch.nn.functional.one_hot(torch.as_tensor(labels)).float()"
   ]
  },
  {
   "cell_type": "code",
   "execution_count": 12,
   "id": "47a20f0f-54b9-4544-a026-e6cb0c075646",
   "metadata": {},
   "outputs": [
    {
     "name": "stderr",
     "output_type": "stream",
     "text": [
      "/opt/miniconda-latest/lib/python3.8/site-packages/monai/data/utils.py:766: UserWarning: Modifying image pixdim from [2. 2. 2. 1.] to [  2.           2.           2.         170.76592166]\n",
      "  warnings.warn(f\"Modifying image pixdim from {pixdim} to {norm}\")\n",
      "/opt/miniconda-latest/lib/python3.8/site-packages/monai/data/utils.py:766: UserWarning: Modifying image pixdim from [2. 2. 2. 1.] to [  2.           2.           2.         170.76592166]\n",
      "  warnings.warn(f\"Modifying image pixdim from {pixdim} to {norm}\")\n"
     ]
    },
    {
     "name": "stdout",
     "output_type": "stream",
     "text": [
      "<class 'monai.data.meta_tensor.MetaTensor'> (2, 30, 32, 32, 32) tensor([[0., 1.],\n",
      "        [0., 1.]]) torch.Size([2, 2])\n"
     ]
    }
   ],
   "source": [
    "# Define transforms\n",
    "train_transforms = Compose([EnsureChannelFirst(),CropForeground(select_fn=lambda x: x > 0, margin=0),NormalizeIntensity(), Resize((32, 32, 32))])\n",
    "\n",
    "val_transforms = Compose([EnsureChannelFirst(),CropForeground(select_fn=lambda x: x > 0, margin=0),NormalizeIntensity(), Resize((32, 32, 32))])\n",
    "\n",
    "# Define nifti dataset, data loader\n",
    "check_ds = ImageDataset(image_files=images, labels=labels, transform=train_transforms)\n",
    "check_loader = DataLoader(check_ds, batch_size=2, num_workers=2, pin_memory=pin_memory)\n",
    "\n",
    "im, label = monai.utils.misc.first(check_loader)\n",
    "print(type(im), im.shape, label, label.shape)\n",
    "\n",
    "# create a training data loader\n",
    "train_ds = ImageDataset(image_files=images[:-30], labels=labels[:-30], transform=train_transforms)\n",
    "train_loader = DataLoader(train_ds, batch_size=16, shuffle=True,pin_memory=pin_memory)\n",
    "\n",
    "# create a validation data loader\n",
    "val_ds = ImageDataset(image_files=images[-30:], labels=labels[-30:], transform=val_transforms)\n",
    "val_loader = DataLoader(val_ds, batch_size=16, pin_memory=pin_memory)"
   ]
  },
  {
   "cell_type": "code",
   "execution_count": 13,
   "id": "b00d98d5-d4ff-4a1e-97e0-4a78a1844f63",
   "metadata": {},
   "outputs": [
    {
     "name": "stderr",
     "output_type": "stream",
     "text": [
      "/opt/miniconda-latest/lib/python3.8/site-packages/monai/data/utils.py:766: UserWarning: Modifying image pixdim from [2. 2. 2. 1.] to [  2.           2.           2.         170.76592166]\n",
      "  warnings.warn(f\"Modifying image pixdim from {pixdim} to {norm}\")\n"
     ]
    }
   ],
   "source": [
    "example =next(iter(train_loader))"
   ]
  },
  {
   "cell_type": "code",
   "execution_count": 14,
   "id": "9e3ed95d-aabc-455e-893f-ebfcbbae341e",
   "metadata": {},
   "outputs": [
    {
     "data": {
      "text/plain": [
       "(array([[ 0.,  0.,  0.,  0., 32.,  0.,  0.,  0.,  0.,  0.],\n",
       "        [ 0.,  0.,  0.,  0., 32.,  0.,  0.,  0.,  0.,  0.],\n",
       "        [ 0.,  0.,  0.,  0., 32.,  0.,  0.,  0.,  0.,  0.],\n",
       "        [ 0.,  0.,  0.,  0., 32.,  0.,  0.,  0.,  0.,  0.],\n",
       "        [ 0.,  0.,  0.,  0., 32.,  0.,  0.,  0.,  0.,  0.],\n",
       "        [ 0.,  0.,  0.,  0., 32.,  0.,  0.,  0.,  0.,  0.],\n",
       "        [ 0.,  0.,  0.,  0., 32.,  0.,  0.,  0.,  0.,  0.],\n",
       "        [ 0.,  0.,  0.,  0., 31.,  1.,  0.,  0.,  0.,  0.],\n",
       "        [ 0.,  0.,  0.,  2., 30.,  0.,  0.,  0.,  0.,  0.],\n",
       "        [ 0.,  0.,  0.,  3., 29.,  0.,  0.,  0.,  0.,  0.],\n",
       "        [ 2.,  0.,  0.,  6., 24.,  0.,  0.,  0.,  0.,  0.],\n",
       "        [ 1.,  1.,  3.,  5., 19.,  3.,  0.,  0.,  0.,  0.],\n",
       "        [ 0.,  0.,  2.,  5., 21.,  2.,  2.,  0.,  0.,  0.],\n",
       "        [ 0.,  0.,  2.,  4., 17.,  3.,  2.,  4.,  0.,  0.],\n",
       "        [ 0.,  0.,  6.,  2., 16.,  3.,  3.,  0.,  1.,  1.],\n",
       "        [ 0.,  3.,  1.,  3., 19.,  2.,  2.,  2.,  0.,  0.],\n",
       "        [ 0.,  1.,  1.,  4., 22.,  3.,  1.,  0.,  0.,  0.],\n",
       "        [ 0.,  0.,  0.,  4., 25.,  2.,  1.,  0.,  0.,  0.],\n",
       "        [ 0.,  0.,  0.,  2., 26.,  4.,  0.,  0.,  0.,  0.],\n",
       "        [ 0.,  0.,  0.,  3., 27.,  2.,  0.,  0.,  0.,  0.],\n",
       "        [ 0.,  0.,  1.,  1., 30.,  0.,  0.,  0.,  0.,  0.],\n",
       "        [ 0.,  0.,  0.,  1., 30.,  1.,  0.,  0.,  0.,  0.],\n",
       "        [ 0.,  0.,  0.,  0., 32.,  0.,  0.,  0.,  0.,  0.],\n",
       "        [ 0.,  0.,  0.,  0., 32.,  0.,  0.,  0.,  0.,  0.],\n",
       "        [ 0.,  0.,  0.,  0., 32.,  0.,  0.,  0.,  0.,  0.],\n",
       "        [ 0.,  0.,  0.,  0., 32.,  0.,  0.,  0.,  0.,  0.],\n",
       "        [ 0.,  0.,  0.,  0., 32.,  0.,  0.,  0.,  0.,  0.],\n",
       "        [ 0.,  0.,  0.,  0., 32.,  0.,  0.,  0.,  0.,  0.],\n",
       "        [ 0.,  0.,  0.,  0., 32.,  0.,  0.,  0.,  0.,  0.],\n",
       "        [ 0.,  0.,  0.,  0., 32.,  0.,  0.,  0.,  0.,  0.],\n",
       "        [ 0.,  0.,  0.,  0., 32.,  0.,  0.,  0.,  0.,  0.],\n",
       "        [ 0.,  0.,  0.,  0., 32.,  0.,  0.,  0.,  0.,  0.]]),\n",
       " array([-1.846824  , -1.4261912 , -1.0055584 , -0.5849255 , -0.16429265,\n",
       "         0.2563402 ,  0.67697304,  1.097606  ,  1.5182388 ,  1.9388716 ,\n",
       "         2.3595045 ], dtype=float32),\n",
       " <a list of 32 BarContainer objects>)"
      ]
     },
     "execution_count": 14,
     "metadata": {},
     "output_type": "execute_result"
    },
    {
     "data": {
      "image/png": "[encoded data removed]",
      "text/plain": [
       "<Figure size 640x480 with 1 Axes>"
      ]
     },
     "metadata": {},
     "output_type": "display_data"
    }
   ],
   "source": [
    "plt.hist(example[0][0][0][0])"
   ]
  },
  {
   "cell_type": "code",
   "execution_count": 15,
   "id": "b605c2a4-94f5-4f19-b2c2-eb44303dacb4",
   "metadata": {},
   "outputs": [],
   "source": [
    "def show_slices(image, axis1=\"x\", axis2=\"y\", axis3=\"z\"):\n",
    "    slice_0 = image[round(len(image[0])/2), :, :]\n",
    "    slice_1 = image[:, round(len(image[1])/2), :]\n",
    "    slice_2 = image[:, :, round(len(image[2])/2)]\n",
    "    image = ([slice_0, slice_1, slice_2])\n",
    "    fig, axes = plt.subplots(1, len(image), figsize=[15,15])\n",
    "    for i, slice in enumerate(image):\n",
    "        axes[i].imshow(slice.T, cmap=\"gray\", origin=\"lower\")\n",
    "        axes[0].set(xlabel=axis2, ylabel=axis3)\n",
    "        axes[1].set(xlabel=axis1, ylabel=axis3)\n",
    "        axes[2].set(xlabel=axis1, ylabel=axis2)\n",
    "    plt.show()"
   ]
  },
  {
   "cell_type": "code",
   "execution_count": 16,
   "id": "bd212961-8ff1-44d0-b55c-a6b4749351b0",
   "metadata": {},
   "outputs": [
    {
     "data": {
      "image/png": "[encoded data removed]",
      "text/plain": [
       "<Figure size 1500x1500 with 3 Axes>"
      ]
     },
     "metadata": {},
     "output_type": "display_data"
    }
   ],
   "source": [
    "show_slices(example[0][0][0])"
   ]
  },
  {
   "cell_type": "code",
   "execution_count": 17,
   "id": "fecd6f37-a098-4d1e-8a4b-9a11a6cab833",
   "metadata": {},
   "outputs": [],
   "source": [
    "class Flatten(nn.Module):\n",
    "    def forward(self, input):\n",
    "        return input.view(input.size(0), -1)\n",
    "\n",
    "\n",
    "class ConvEncoder(nn.Module):\n",
    "    def __init__(self, in_channels=1,\n",
    "                 out_channels_list=[32, 64, 128, 256],\n",
    "                 network_type ='Conv',\n",
    "                 act =\"prelu\",\n",
    "                 norm= \"batch\",\n",
    "                 input_shape=(64, 64, 64),\n",
    "                 is_rcnn=False):\n",
    "        super(ConvEncoder, self).__init__()\n",
    "        self.is_rcnn =is_rcnn\n",
    "        convs =[]\n",
    "        for out_channels in out_channels_list:\n",
    "            if network_type ==\"Residual\":\n",
    "                conv = ResidualUnit(\n",
    "                        spatial_dims=3,\n",
    "                        in_channels=in_channels,\n",
    "                        out_channels=out_channels,\n",
    "                        act=act,\n",
    "                        norm=norm,\n",
    "                        kernel_size=2,\n",
    "                        strides =1,\n",
    "                        padding=1\n",
    "                )\n",
    "                conv.add_module(\"maxpool\", torch.nn.MaxPool3d(kernel_size=2))\n",
    "            else:\n",
    "                conv = Convolution(\n",
    "                        spatial_dims=3,\n",
    "                        in_channels=in_channels,\n",
    "                        out_channels=out_channels,\n",
    "                        act=act,\n",
    "                        norm=norm,\n",
    "                        kernel_size=2,\n",
    "                        strides =1,\n",
    "                        padding=1\n",
    "                )\n",
    "                conv.add_module(\"maxpool\", torch.nn.MaxPool3d(kernel_size=2))\n",
    "            in_channels =out_channels\n",
    "            convs.append(conv)\n",
    "            \n",
    "        self.conv_layer =nn.Sequential(*convs)\n",
    "        input_shape = np.array(input_shape)\n",
    "        self.n_flatten_units = int(np.prod(input_shape // (2 ** len(out_channels_list))) * out_channels)\n",
    "        self.faltten = Flatten()\n",
    "        \n",
    "    def forward(self, x):\n",
    "        if self.is_rcnn:\n",
    "            n_objects, seq_length = x.size()[0:2]\n",
    "            x = x.reshape([n_objects * seq_length] + list(x.size()[2:]))\n",
    "            x = torch.unsqueeze(x, axis=1)\n",
    "            x = self.conv_layer(x)\n",
    "            x =self.faltten(x)\n",
    "            x = x.reshape([n_objects, seq_length, -1])\n",
    "        else:\n",
    "            x = self.conv_layer(x)\n",
    "            x =self.faltten(x)\n",
    "        return x        "
   ]
  },
  {
   "cell_type": "code",
   "execution_count": 18,
   "id": "fedcc821-62d8-44d9-b3a3-80a6cd438923",
   "metadata": {},
   "outputs": [],
   "source": [
    "class ClfGRU(nn.Module):\n",
    "    def __init__(self, n_latent_units, seq_length, \n",
    "                 hidden_size=128, n_layers=1,\n",
    "                use_states=\"last\"):\n",
    "        super(self.__class__, self).__init__()\n",
    "        self.n_latent_units = n_latent_units\n",
    "        self.seq_length = seq_length\n",
    "        \n",
    "        self.hidden_size = hidden_size\n",
    "        self.n_layers = n_layers\n",
    "        self.gru = nn.GRU(\n",
    "            n_latent_units, \n",
    "            hidden_size, n_layers, \n",
    "            batch_first=True\n",
    "        )\n",
    "        \n",
    "        self.use_states = use_states\n",
    "        if use_states == \"last\":\n",
    "            self.gru_out_size = hidden_size\n",
    "        elif use_states == \"mean\":\n",
    "            self.gru_out_size = hidden_size\n",
    "        elif use_states == \"all\":\n",
    "            self.gru_out_size = hidden_size * seq_length\n",
    "            \n",
    "    def forward(self, x):\n",
    "        out, _ = self.gru(x)\n",
    "        \n",
    "        if self.use_states == \"last\":\n",
    "            out = out[:, -1, :]\n",
    "        elif self.use_states == \"mean\":\n",
    "            out = out.mean(dim=1)\n",
    "        elif self.use_states == \"all\":\n",
    "            out = out.reshape(n_objects, self.hidden_size * seq_length)\n",
    "        \n",
    "        return out"
   ]
  },
  {
   "cell_type": "code",
   "execution_count": 19,
   "id": "418855bc-3f50-41f8-bd5a-fbc0664ed5ad",
   "metadata": {},
   "outputs": [],
   "source": [
    "class FMRINET(nn.Module):\n",
    "    def __init__(self, in_channels=10,\n",
    "                 out_channels_list=[32, 64, 128, 256],\n",
    "                 network_type ='Conv',\n",
    "                 act =\"relu\",\n",
    "                 norm= \"batch\",\n",
    "                 input_shape=(64, 64, 64),\n",
    "                 n_outputs =2,\n",
    "                 n_fc_units=128,\n",
    "                 hidden_size=128,\n",
    "                 dropout =0.2,\n",
    "                 n_layers=1,\n",
    "                 is_rcnn=False):\n",
    "        super(FMRINET, self).__init__()\n",
    "        self.is_rcnn=is_rcnn\n",
    "        if self.is_rcnn:\n",
    "            self.cnn =ConvEncoder(in_channels=1,\n",
    "                                    out_channels_list=out_channels_list,\n",
    "                                    network_type =network_type,\n",
    "                                    act =act,\n",
    "                                    norm= norm,\n",
    "                                    input_shape=input_shape,\n",
    "                                    is_rcnn=True)\n",
    "            self.gru =ClfGRU(self.cnn.n_flatten_units, \n",
    "                             in_channels,hidden_size=hidden_size,n_layers=n_layers)\n",
    "            self.fc =nn.Sequential(\n",
    "                               # nn.Dropout(dropout),\n",
    "                               nn.Linear(self.gru.gru_out_size, n_fc_units),\n",
    "                               nn.ReLU(inplace=True),\n",
    "                               # nn.Linear(n_fc_units, n_fc_units),\n",
    "                               # nn.ReLU(inplace=True),\n",
    "                               nn.Linear(n_fc_units, n_outputs))\n",
    "            \n",
    "        else:\n",
    "            self.cnn =ConvEncoder(in_channels=in_channels,\n",
    "                                    out_channels_list=out_channels_list,\n",
    "                                    network_type =network_type,\n",
    "                                    act =act,\n",
    "                                    norm= norm,\n",
    "                                    input_shape=input_shape,\n",
    "                                    is_rcnn=False)\n",
    "            self.fc =nn.Sequential(\n",
    "                               # nn.Dropout(dropout),\n",
    "                               nn.Linear(self.cnn.n_flatten_units, n_fc_units),\n",
    "                               nn.ReLU(inplace=True),\n",
    "                               # nn.Linear(n_fc_units, n_fc_units),\n",
    "                               # nn.ReLU(inplace=True),\n",
    "                               nn.Linear(n_fc_units, n_outputs))\n",
    "        \n",
    "    def forward(self,x):\n",
    "        if self.is_rcnn:\n",
    "            x =self.cnn(x)\n",
    "            x =self.gru(x)\n",
    "            x =self.fc(x)\n",
    "        else:\n",
    "            x =self.cnn(x)\n",
    "            x =self.fc(x)\n",
    "        return x    "
   ]
  },
  {
   "cell_type": "code",
   "execution_count": 20,
   "id": "f7b58108-58b0-483b-88d2-15aa25db12c7",
   "metadata": {},
   "outputs": [],
   "source": [
    "model =FMRINET( out_channels_list=[8, 16, 32, 64],\n",
    "                 in_channels=30,\n",
    "                 n_fc_units=64,\n",
    "                 hidden_size=64,\n",
    "                 input_shape=(32, 32, 32),\n",
    "                 dropout =0.1,is_rcnn=True)"
   ]
  },
  {
   "cell_type": "code",
   "execution_count": 21,
   "id": "1a64eacd-41bc-44b9-8cf3-f2d878ddfce2",
   "metadata": {},
   "outputs": [
    {
     "data": {
      "text/plain": [
       "512"
      ]
     },
     "execution_count": 21,
     "metadata": {},
     "output_type": "execute_result"
    }
   ],
   "source": [
    "model.cnn.n_flatten_units"
   ]
  },
  {
   "cell_type": "code",
   "execution_count": 22,
   "id": "84651cb4-2abf-46f6-acf4-da427c39c786",
   "metadata": {},
   "outputs": [],
   "source": [
    "# Create DenseNet121, CrossEntropyLoss and Adam optimizer\n",
    "# model = monai.networks.nets.DenseNet121(in_channels=30,spatial_dims=3, out_channels=2).to(device)\n",
    "\n",
    "loss_function = torch.nn.CrossEntropyLoss()\n",
    "# loss_function = torch.nn.BCEWithLogitsLoss()  # also works with this data\n",
    "#weight_decay=0.0001\n",
    "optimizer = torch.optim.Adam(model.parameters(), lr=0.0001)"
   ]
  },
  {
   "cell_type": "code",
   "execution_count": null,
   "id": "8e6dc4a5-4039-4f15-9e02-e8dcb0fbec60",
   "metadata": {},
   "outputs": [
    {
     "name": "stdout",
     "output_type": "stream",
     "text": [
      "----------\n",
      "epoch 1/40\n",
      "epoch 1 average loss: 0.6989\n",
      "Current epoch: 1 current train accuracy: 0.5492 \n",
      "saved new best metric model\n",
      "Current epoch: 1 current accuracy: 0.4667 \n",
      "Best accuracy: 0.4667 at epoch 1\n",
      "----------\n",
      "epoch 2/40\n",
      "epoch 2 average loss: 0.6795\n",
      "Current epoch: 2 current train accuracy: 0.5902 \n",
      "Current epoch: 2 current accuracy: 0.3667 \n",
      "Best accuracy: 0.4667 at epoch 1\n",
      "----------\n",
      "epoch 3/40\n",
      "epoch 3 average loss: 0.6692\n",
      "Current epoch: 3 current train accuracy: 0.6066 \n",
      "saved new best metric model\n",
      "Current epoch: 3 current accuracy: 0.5667 \n",
      "Best accuracy: 0.5667 at epoch 3\n",
      "----------\n",
      "epoch 4/40\n",
      "epoch 4 average loss: 0.6504\n",
      "Current epoch: 4 current train accuracy: 0.5820 \n",
      "Current epoch: 4 current accuracy: 0.5667 \n",
      "Best accuracy: 0.5667 at epoch 3\n",
      "----------\n",
      "epoch 5/40\n",
      "epoch 5 average loss: 0.6374\n",
      "Current epoch: 5 current train accuracy: 0.6967 \n",
      "Current epoch: 5 current accuracy: 0.5667 \n",
      "Best accuracy: 0.5667 at epoch 3\n",
      "----------\n",
      "epoch 6/40\n",
      "epoch 6 average loss: 0.6257\n",
      "Current epoch: 6 current train accuracy: 0.7131 \n",
      "Current epoch: 6 current accuracy: 0.5667 \n",
      "Best accuracy: 0.5667 at epoch 3\n",
      "----------\n",
      "epoch 7/40\n",
      "epoch 7 average loss: 0.6120\n",
      "Current epoch: 7 current train accuracy: 0.7131 \n",
      "saved new best metric model\n",
      "Current epoch: 7 current accuracy: 0.6000 \n",
      "Best accuracy: 0.6000 at epoch 7\n",
      "----------\n",
      "epoch 8/40\n",
      "epoch 8 average loss: 0.5996\n",
      "Current epoch: 8 current train accuracy: 0.7705 \n",
      "Current epoch: 8 current accuracy: 0.6000 \n",
      "Best accuracy: 0.6000 at epoch 7\n",
      "----------\n",
      "epoch 9/40\n",
      "epoch 9 average loss: 0.5830\n",
      "Current epoch: 9 current train accuracy: 0.8197 \n",
      "Current epoch: 9 current accuracy: 0.6000 \n",
      "Best accuracy: 0.6000 at epoch 7\n",
      "----------\n",
      "epoch 10/40\n",
      "epoch 10 average loss: 0.5689\n",
      "Current epoch: 10 current train accuracy: 0.8197 \n",
      "Current epoch: 10 current accuracy: 0.6000 \n",
      "Best accuracy: 0.6000 at epoch 7\n",
      "----------\n",
      "epoch 11/40\n",
      "epoch 11 average loss: 0.5619\n",
      "Current epoch: 11 current train accuracy: 0.8279 \n"
     ]
    }
   ],
   "source": [
    "# start a typical PyTorch training\n",
    "val_interval = 1\n",
    "best_metric = -1\n",
    "best_metric_epoch = -1  \n",
    "epoch_loss_values = []\n",
    "metric_values = []\n",
    "writer = SummaryWriter()\n",
    "max_epochs = 40\n",
    "\n",
    "for epoch in range(max_epochs):\n",
    "    print(\"-\" * 10)\n",
    "    print(f\"epoch {epoch + 1}/{max_epochs}\")\n",
    "    model.train()\n",
    "    epoch_loss = 0\n",
    "    step = 0\n",
    "\n",
    "    num_correct = 0.0\n",
    "    metric_count = 0\n",
    "    \n",
    "    for batch_data in train_loader:\n",
    "        step += 1\n",
    "        inputs, labels = batch_data[0].to(device), batch_data[1].to(device)\n",
    "        optimizer.zero_grad()\n",
    "        outputs = model(inputs)\n",
    " \n",
    "        loss = loss_function(outputs, labels)\n",
    "        loss.backward()\n",
    "        optimizer.step()\n",
    "        epoch_loss += loss.item()\n",
    "        epoch_len = len(train_ds) // train_loader.batch_size\n",
    "        \n",
    "        value = torch.eq(outputs.argmax(dim=1), labels.argmax(dim=1))\n",
    "        metric_count += len(value)\n",
    "        num_correct += value.sum().item()\n",
    "                \n",
    "        # print(f\"{step}/{epoch_len}, train_loss: {loss.item():.4f}\")\n",
    "        writer.add_scalar(\"train_loss\", loss.item(), epoch_len * epoch + step)\n",
    "\n",
    "    epoch_loss /= step\n",
    "    epoch_loss_values.append(epoch_loss)\n",
    "    metric = num_correct / metric_count\n",
    "    print(f\"epoch {epoch + 1} average loss: {epoch_loss:.4f}\")\n",
    "    print(f\"Current epoch: {epoch+1} current train accuracy: {metric:.4f} \")\n",
    "    writer.add_scalar(\"train_accuracy\", metric, epoch + 1)\n",
    "    \n",
    "    if (epoch + 1) % val_interval == 0:\n",
    "        model.eval()\n",
    "        with torch.no_grad():\n",
    "            num_correct = 0.0\n",
    "            metric_count = 0\n",
    "            for val_data in val_loader:\n",
    "                    val_images, val_labels = val_data[0].to(device), val_data[1].to(device)\n",
    "                    val_outputs = model(val_images)\n",
    "                    value = torch.eq(val_outputs.argmax(dim=1), val_labels.argmax(dim=1))\n",
    "                    metric_count += len(value)\n",
    "                    num_correct += value.sum().item()\n",
    "\n",
    "            metric = num_correct / metric_count\n",
    "            metric_values.append(metric)\n",
    "\n",
    "            if metric > best_metric:\n",
    "                best_metric = metric\n",
    "                best_metric_epoch = epoch + 1\n",
    "                torch.save(model.state_dict(), \"best_metric_model_classification3d_array.pth\")\n",
    "                print(\"saved new best metric model\")\n",
    "\n",
    "            print(f\"Current epoch: {epoch+1} current accuracy: {metric:.4f} \")\n",
    "            print(f\"Best accuracy: {best_metric:.4f} at epoch {best_metric_epoch}\")\n",
    "            writer.add_scalar(\"val_accuracy\", metric, epoch + 1)\n",
    "\n",
    "print(f\"Training completed, best_metric: {best_metric:.4f} at epoch: {best_metric_epoch}\")\n",
    "writer.close()"
   ]
  },
  {
   "cell_type": "code",
   "execution_count": null,
   "id": "8e5e2f20-66c6-4e57-906e-4c95195e1014",
   "metadata": {},
   "outputs": [],
   "source": []
  },
  {
   "cell_type": "code",
   "execution_count": null,
   "id": "f4f953d7-5ee7-4fa8-8634-c3fd7e4ab7d4",
   "metadata": {},
   "outputs": [],
   "source": []
  },
  {
   "cell_type": "code",
   "execution_count": null,
   "id": "a6c08c2c-1215-4389-99d8-8b6609e54df2",
   "metadata": {},
   "outputs": [],
   "source": []
  }
 ],
 "metadata": {
  "kernelspec": {
   "display_name": "Python 3 (ipykernel)",
   "language": "python",
   "name": "python3"
  },
  "language_info": {
   "codemirror_mode": {
    "name": "ipython",
    "version": 3
   },
   "file_extension": ".py",
   "mimetype": "text/x-python",
   "name": "python",
   "nbconvert_exporter": "python",
   "pygments_lexer": "ipython3",
   "version": "3.8.3"
  }
 },
 "nbformat": 4,
 "nbformat_minor": 5
}
